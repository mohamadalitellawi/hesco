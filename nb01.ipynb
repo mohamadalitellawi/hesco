{
 "cells": [
  {
   "cell_type": "code",
   "execution_count": 1,
   "metadata": {},
   "outputs": [],
   "source": [
    "import pandas as pd\n",
    "import numpy as np\n",
    "from pathlib import Path"
   ]
  },
  {
   "cell_type": "code",
   "execution_count": 3,
   "metadata": {},
   "outputs": [
    {
     "data": {
      "text/plain": [
       "[WindowsPath('test_data/time_sheet/Egypt/STR_OCT_AHM.xlsx'),\n",
       " WindowsPath('test_data/time_sheet/Egypt/STR_OCT_AHR.xlsx'),\n",
       " WindowsPath('test_data/time_sheet/Egypt/STR_OCT_AHS.xlsx'),\n",
       " WindowsPath('test_data/time_sheet/Egypt/STR_OCT_AKG.xlsx'),\n",
       " WindowsPath('test_data/time_sheet/Egypt/STR_OCT_AMK.xlsx'),\n",
       " WindowsPath('test_data/time_sheet/Egypt/STR_OCT_AND.xlsx'),\n",
       " WindowsPath('test_data/time_sheet/Egypt/STR_OCT_ASH.xlsx'),\n",
       " WindowsPath('test_data/time_sheet/Egypt/STR_OCT_ASO.xlsx'),\n",
       " WindowsPath('test_data/time_sheet/Egypt/STR_OCT_AYY.xlsx'),\n",
       " WindowsPath('test_data/time_sheet/Egypt/STR_OCT_EMZ.xlsx'),\n",
       " WindowsPath('test_data/time_sheet/Egypt/STR_OCT_MMA.xlsx'),\n",
       " WindowsPath('test_data/time_sheet/Egypt/STR_OCT_MOT.xlsx'),\n",
       " WindowsPath('test_data/time_sheet/Egypt/STR_OCT_NOF.xlsx'),\n",
       " WindowsPath('test_data/time_sheet/Egypt/STR_OCT_RFM.xlsx'),\n",
       " WindowsPath('test_data/time_sheet/Egypt/STR_OCT_RSS.xlsx'),\n",
       " WindowsPath('test_data/time_sheet/Egypt/STR_OCT_SAR.xlsx'),\n",
       " WindowsPath('test_data/time_sheet/Egypt/STR_SHT_ASY.xlsx'),\n",
       " WindowsPath('test_data/time_sheet/Egypt/STR_SHT_HMS.xlsx'),\n",
       " WindowsPath('test_data/time_sheet/Egypt/STR_SHT_MEA.xlsx'),\n",
       " WindowsPath('test_data/time_sheet/Egypt/STR_SHT_MKB.xlsx'),\n",
       " WindowsPath('test_data/time_sheet/Egypt/STR_SHT_MMH.xlsx'),\n",
       " WindowsPath('test_data/time_sheet/Egypt/STR_SHT_NYS.xlsx'),\n",
       " WindowsPath('test_data/time_sheet/Egypt/STR_SHT_OAB.xlsx'),\n",
       " WindowsPath('test_data/time_sheet/Egypt/STR_SHT_SAG.xlsx'),\n",
       " WindowsPath('test_data/time_sheet/Egypt/STR_SHT_TEE.xlsx'),\n",
       " WindowsPath('test_data/time_sheet/other/STR_JED_ABB.xlsx'),\n",
       " WindowsPath('test_data/time_sheet/other/STR_JED_MHA.xlsx'),\n",
       " WindowsPath('test_data/time_sheet/other/STR_JED_YAN.xlsx'),\n",
       " WindowsPath('test_data/time_sheet/other/STR_JED_ZUR.xlsx'),\n",
       " WindowsPath('test_data/time_sheet/Syria/STR_DAM-RHB.xlsx'),\n",
       " WindowsPath('test_data/time_sheet/Syria/STR_DAM_FHA.xlsx'),\n",
       " WindowsPath('test_data/time_sheet/Syria/STR_DAM_MAD.xlsx'),\n",
       " WindowsPath('test_data/time_sheet/Syria/STR_DAM_SWN.xlsx'),\n",
       " WindowsPath('test_data/time_sheet/Syria/STR_DAM_YSB.xlsx')]"
      ]
     },
     "execution_count": 3,
     "metadata": {},
     "output_type": "execute_result"
    }
   ],
   "source": [
    "FOLDER_PATH = Path(r'.\\test_data')\n",
    "excel_files = list(FOLDER_PATH.rglob('*.xlsx'))\n",
    "excel_files"
   ]
  },
  {
   "cell_type": "code",
   "execution_count": null,
   "metadata": {},
   "outputs": [],
   "source": []
  }
 ],
 "metadata": {
  "kernelspec": {
   "display_name": "pfse",
   "language": "python",
   "name": "pfse"
  },
  "language_info": {
   "codemirror_mode": {
    "name": "ipython",
    "version": 3
   },
   "file_extension": ".py",
   "mimetype": "text/x-python",
   "name": "python",
   "nbconvert_exporter": "python",
   "pygments_lexer": "ipython3",
   "version": "3.11.7"
  }
 },
 "nbformat": 4,
 "nbformat_minor": 2
}
